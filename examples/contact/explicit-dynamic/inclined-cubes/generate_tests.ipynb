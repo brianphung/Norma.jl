{
 "cells": [
  {
   "cell_type": "code",
   "execution_count": 4,
   "metadata": {},
   "outputs": [],
   "source": [
    "from pathlib import Path\n",
    "import shutil\n",
    "import os\n",
    "import subprocess\n",
    "import numpy as np"
   ]
  },
  {
   "cell_type": "code",
   "execution_count": 5,
   "metadata": {},
   "outputs": [],
   "source": [
    "def find_and_replace(file_path, find_text, replace_text):\n",
    "    # Open the file for reading\n",
    "    with open(file_path, 'r') as file:\n",
    "        # Read the contents of the file\n",
    "        content = file.read()\n",
    "    \n",
    "    # Replace the target text with the desired text\n",
    "    new_content = content.replace(find_text, replace_text)\n",
    "    \n",
    "    # Open the file for writing and save the new content\n",
    "    with open(file_path, 'w') as file:\n",
    "        file.write(new_content)\n"
   ]
  },
  {
   "cell_type": "code",
   "execution_count": 6,
   "metadata": {},
   "outputs": [],
   "source": [
    "angles = [ 0, 22.5, 45, 90 ]\n",
    "for i, angle in enumerate(angles):\n",
    "    yaml1 = f'cube-test{i+1}-1.yaml'\n",
    "    yaml2 = f'cube-test{i+1}-2.yaml'\n",
    "    yaml_main = f'cubes-test{i+1}.yaml'\n",
    "    mesh = f'cube-test{i+1}'\n",
    "    shutil.copy2('cube-1-template.yaml', yaml1)\n",
    "    shutil.copy2('cube-2-template.yaml', yaml2)\n",
    "    shutil.copy2('cubes-template.yaml', yaml_main)\n",
    "    replacements = {\n",
    "        '{input_mesh_file}': mesh,\n",
    "        '{cosangle}': str(np.cos(angle*np.pi/180)),\n",
    "        '{sinangle}': str(np.sin(angle*np.pi/180)),\n",
    "        '{deg_angle}': str(angle),\n",
    "    }\n",
    "    for r in replacements:\n",
    "        v = replacements[r]\n",
    "\n",
    "        find_and_replace(yaml1, r, v )\n",
    "        find_and_replace(yaml2, r, v )\n",
    "        find_and_replace(yaml_main, r, v)"
   ]
  },
  {
   "cell_type": "code",
   "execution_count": null,
   "metadata": {},
   "outputs": [],
   "source": []
  }
 ],
 "metadata": {
  "kernelspec": {
   "display_name": "base",
   "language": "python",
   "name": "python3"
  },
  "language_info": {
   "codemirror_mode": {
    "name": "ipython",
    "version": 3
   },
   "file_extension": ".py",
   "mimetype": "text/x-python",
   "name": "python",
   "nbconvert_exporter": "python",
   "pygments_lexer": "ipython3",
   "version": "3.12.4"
  }
 },
 "nbformat": 4,
 "nbformat_minor": 2
}
